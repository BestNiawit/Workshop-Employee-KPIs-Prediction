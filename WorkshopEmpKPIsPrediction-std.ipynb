{
 "cells": [
  {
   "cell_type": "markdown",
   "id": "0f30f9df-1af1-4e2c-9586-88a578e6d41f",
   "metadata": {},
   "source": [
    "#  Workshop: Employee KPIs Prediction\n",
    "\n",
    "Data source: \n",
    "https://www.kaggle.com/datasets/sanjanchaudhari/employees-performance-for-hr-analytics/data\n",
    "\n",
    "- In this workshop, you will learn to use Grid Search to find the best parameters"
   ]
  },
  {
   "cell_type": "markdown",
   "id": "b8e6d838-4cef-4b2d-8a65-042cfb6dfe2d",
   "metadata": {
    "jp-MarkdownHeadingCollapsed": true,
    "tags": []
   },
   "source": [
    "## Prepare Data"
   ]
  },
  {
   "cell_type": "code",
   "execution_count": null,
   "id": "a7d89081-e2ce-40ea-88d8-a0c360195c60",
   "metadata": {
    "tags": []
   },
   "outputs": [],
   "source": [
    "import numpy as np \n",
    "import pandas as pd "
   ]
  },
  {
   "cell_type": "code",
   "execution_count": null,
   "id": "edf5cd72-76bc-4c82-945b-2e48e9a24807",
   "metadata": {},
   "outputs": [],
   "source": [
    "df_org = pd.read_csv(\"Uncleaned_employees_final_dataset.csv\")"
   ]
  },
  {
   "cell_type": "code",
   "execution_count": null,
   "id": "5123f184-4e27-4afe-bdfa-ddf24bea3aa8",
   "metadata": {},
   "outputs": [],
   "source": [
    "df = df_org.copy()\n",
    "df.head()"
   ]
  },
  {
   "cell_type": "code",
   "execution_count": null,
   "id": "332c46c2-2772-49aa-8243-d08d0acb6920",
   "metadata": {
    "tags": []
   },
   "outputs": [],
   "source": [
    "df.shape"
   ]
  },
  {
   "cell_type": "code",
   "execution_count": null,
   "id": "ba25108b-2314-4198-9729-409dbc7ed6a3",
   "metadata": {
    "tags": []
   },
   "outputs": [],
   "source": [
    "df.columns"
   ]
  },
  {
   "cell_type": "code",
   "execution_count": null,
   "id": "5ad3edde-5aae-4511-993b-6f515add9b11",
   "metadata": {
    "tags": []
   },
   "outputs": [],
   "source": [
    "# Iterate through each column and print unique values\n",
    "for column in df.columns:\n",
    "    unique_values = df[column].unique()\n",
    "    print(f\"'{column}': {unique_values}\")"
   ]
  },
  {
   "cell_type": "code",
   "execution_count": null,
   "id": "748f7b13-5f8d-4cc9-9d2b-5fda5f651eae",
   "metadata": {
    "tags": []
   },
   "outputs": [],
   "source": [
    "df = df.drop('employee_id',axis=1)"
   ]
  },
  {
   "cell_type": "markdown",
   "id": "fd1b98ae-f570-4ac9-87ac-b2bbd4e7ed8e",
   "metadata": {
    "jp-MarkdownHeadingCollapsed": true,
    "tags": []
   },
   "source": [
    "## Handle Missing Data "
   ]
  },
  {
   "cell_type": "code",
   "execution_count": null,
   "id": "87de030b-7927-48a0-a578-f2008f232065",
   "metadata": {},
   "outputs": [],
   "source": [
    "df.isna().sum()/len(df)*100"
   ]
  },
  {
   "cell_type": "code",
   "execution_count": null,
   "id": "8529bd6f-6959-45bf-b840-cd268bd31a69",
   "metadata": {
    "tags": []
   },
   "outputs": [],
   "source": [
    "df['previous_year_rating'].mode()[0]"
   ]
  },
  {
   "cell_type": "code",
   "execution_count": null,
   "id": "c8100db5-c220-4f48-b7b4-6bf3556450e7",
   "metadata": {},
   "outputs": [],
   "source": [
    "df['education'] = df['education'].fillna('None')\n",
    "df['previous_year_rating'] = df['previous_year_rating'].fillna(df['previous_year_rating'].mode()[0])"
   ]
  },
  {
   "cell_type": "code",
   "execution_count": null,
   "id": "6640655f-56c0-4abb-a59e-d33d90201b9f",
   "metadata": {
    "tags": []
   },
   "outputs": [],
   "source": [
    "df.isna().sum()/len(df)*100"
   ]
  },
  {
   "cell_type": "markdown",
   "id": "7fd3085e-a8ed-4e93-9cc4-fc4d94491b3c",
   "metadata": {
    "jp-MarkdownHeadingCollapsed": true,
    "tags": []
   },
   "source": [
    "## Categotical Encoding"
   ]
  },
  {
   "cell_type": "code",
   "execution_count": null,
   "id": "db4eb059-a0d7-45b0-8b49-08ffb9791c55",
   "metadata": {
    "tags": []
   },
   "outputs": [],
   "source": [
    "df.info()"
   ]
  },
  {
   "cell_type": "code",
   "execution_count": null,
   "id": "c2525cc3-a7b7-4cea-a65a-aa1c245e0972",
   "metadata": {
    "tags": []
   },
   "outputs": [],
   "source": [
    "df"
   ]
  },
  {
   "cell_type": "code",
   "execution_count": null,
   "id": "3add1c95-b642-483d-a4e3-9a3923aad90a",
   "metadata": {
    "tags": []
   },
   "outputs": [],
   "source": [
    "#Encoding the object columns.\n",
    "from sklearn.preprocessing import LabelEncoder\n",
    "department_encoder = LabelEncoder().fit(df['department'])\n",
    "region_encoder = LabelEncoder().fit(df['region'])\n",
    "education_encoder = LabelEncoder().fit(df['education'])\n",
    "gender_encoder = LabelEncoder().fit(df['gender'])\n",
    "recruitment_channel_encoder = LabelEncoder().fit(df['recruitment_channel'])\n"
   ]
  },
  {
   "cell_type": "code",
   "execution_count": null,
   "id": "ab558c74-11a6-4da3-a66a-9b0a46c2ce6d",
   "metadata": {
    "tags": []
   },
   "outputs": [],
   "source": [
    "df['department'] = department_encoder.transform(df['department'])\n",
    "df['region'] = region_encoder.transform(df['region'])\n",
    "df['education'] = education_encoder.transform(df['education'])\n",
    "df['gender'] = gender_encoder.transform(df['gender'])\n",
    "df['recruitment_channel'] = recruitment_channel_encoder.transform(df['recruitment_channel'])\n"
   ]
  },
  {
   "cell_type": "markdown",
   "id": "fe446711-e720-4f88-b760-3aab9cfbfc4f",
   "metadata": {},
   "source": [
    "### Correlation of features  "
   ]
  },
  {
   "cell_type": "code",
   "execution_count": null,
   "id": "9641d325-9265-41d3-a2b6-3710dd3f0012",
   "metadata": {
    "tags": []
   },
   "outputs": [],
   "source": [
    "import pandas as pd\n",
    "import seaborn as sns\n",
    "import matplotlib.pyplot as plt\n",
    "\n",
    "# Assuming your DataFrame is named df\n",
    "# If not, replace df with the actual name of your DataFrame\n",
    "\n",
    "# Calculate the correlation matrix\n",
    "correlation_matrix = df.corr()\n",
    "\n",
    "# Set up the matplotlib figure\n",
    "plt.figure(figsize=(10, 8))\n",
    "\n",
    "# Create a heatmap using seaborn to visualize the correlation matrix\n",
    "sns.heatmap(correlation_matrix, annot=True, cmap='coolwarm', fmt='.2f', linewidths=0.5)\n",
    "\n",
    "# Show the plot\n",
    "plt.title('Correlation Matrix of Features')\n",
    "plt.show()\n"
   ]
  },
  {
   "cell_type": "code",
   "execution_count": null,
   "id": "69041fe9-658c-4b24-a02e-1c66af5d56a6",
   "metadata": {},
   "outputs": [],
   "source": []
  },
  {
   "cell_type": "markdown",
   "id": "2b3fad44-86a8-479b-8533-4d2c2e236afc",
   "metadata": {},
   "source": [
    "### Plot in 2 Dimensions using PCA"
   ]
  },
  {
   "cell_type": "code",
   "execution_count": null,
   "id": "db556cc6-2150-4bfb-81ee-180cc440558c",
   "metadata": {
    "tags": []
   },
   "outputs": [],
   "source": [
    "from sklearn.decomposition import PCA\n",
    "from sklearn.preprocessing import StandardScaler\n",
    "\n",
    "# Standardize the features\n",
    "scaler = StandardScaler()\n",
    "X_scaled = scaler.fit_transform(X)\n",
    "\n",
    "# Apply PCA\n",
    "pca = PCA(n_components=2)\n",
    "X_pca = pca.fit_transform(X_scaled)\n",
    "\n",
    "# Create a DataFrame with PCA components and target variable\n",
    "pca_df = pd.DataFrame(data={'PCA1': X_pca[:, 0], 'PCA2': X_pca[:, 1], 'target': y})\n",
    "\n",
    "# Plot the PCA components\n",
    "plt.figure(figsize=(10, 8))\n",
    "sns.scatterplot(x='PCA1', y='PCA2', hue='target', data=pca_df, palette='viridis', s=50)\n",
    "plt.title('PCA of Features Colored by Target Variable')\n",
    "plt.xlabel('Principal Component 1')\n",
    "plt.ylabel('Principal Component 2')\n",
    "plt.legend(title='Target', loc='upper right')\n",
    "plt.show()"
   ]
  },
  {
   "cell_type": "code",
   "execution_count": null,
   "id": "0aa1ec10-be3c-4fbf-bee0-b77007b21125",
   "metadata": {},
   "outputs": [],
   "source": []
  },
  {
   "cell_type": "code",
   "execution_count": null,
   "id": "1c930f19-cbd6-45af-b21b-027ae38e9189",
   "metadata": {},
   "outputs": [],
   "source": []
  },
  {
   "cell_type": "markdown",
   "id": "2994a255-e84e-42ba-87d8-7f4c810302f6",
   "metadata": {
    "jp-MarkdownHeadingCollapsed": true,
    "tags": []
   },
   "source": [
    "## Select Feature and Target"
   ]
  },
  {
   "cell_type": "code",
   "execution_count": null,
   "id": "5034cbe1-0053-4f57-bd90-f3f0e98ffca3",
   "metadata": {
    "tags": []
   },
   "outputs": [],
   "source": [
    "df.columns"
   ]
  },
  {
   "cell_type": "code",
   "execution_count": null,
   "id": "0ddd0451-d12c-4a2c-aa4c-e82a1496288e",
   "metadata": {
    "tags": []
   },
   "outputs": [],
   "source": [
    "features = ['department','region','education', 'gender', 'recruitment_channel', \n",
    "            'no_of_trainings', 'age', 'previous_year_rating',\n",
    "            'length_of_service', 'awards_won', 'avg_training_score']\n"
   ]
  },
  {
   "cell_type": "code",
   "execution_count": null,
   "id": "b2d6a2b1-1ca9-4bcc-a266-aee13fd6fc58",
   "metadata": {
    "tags": []
   },
   "outputs": [],
   "source": [
    "X = df[features]\n",
    "y = df['KPIs_met_more_than_80']"
   ]
  },
  {
   "cell_type": "code",
   "execution_count": null,
   "id": "aa1110c6-b2a3-4972-ae54-20cc9da21d7f",
   "metadata": {
    "tags": []
   },
   "outputs": [],
   "source": [
    "X.head()"
   ]
  },
  {
   "cell_type": "markdown",
   "id": "7c36a584-a669-49a7-a649-383166bde8e9",
   "metadata": {
    "jp-MarkdownHeadingCollapsed": true,
    "tags": []
   },
   "source": [
    "## Train/Test Data Split "
   ]
  },
  {
   "cell_type": "code",
   "execution_count": null,
   "id": "49675f4d-079a-45c9-9c71-c40c24d1f4c4",
   "metadata": {
    "tags": []
   },
   "outputs": [],
   "source": [
    "from sklearn.model_selection import train_test_split\n",
    "# Split data into features and target\n",
    "# Split data into train and test sets\n",
    "X_train, X_test, y_train, y_test = train_test_split(X, y, test_size=0.2, random_state=42)"
   ]
  },
  {
   "cell_type": "code",
   "execution_count": null,
   "id": "fc983e3e-83f8-4406-a5f2-7eeba9c7784c",
   "metadata": {},
   "outputs": [],
   "source": []
  },
  {
   "cell_type": "code",
   "execution_count": null,
   "id": "dca7b6ae-f7c7-48ad-9816-a4a74f341822",
   "metadata": {},
   "outputs": [],
   "source": []
  },
  {
   "cell_type": "markdown",
   "id": "6e607a62-020d-4dfb-9a72-bff337132796",
   "metadata": {
    "tags": []
   },
   "source": [
    "## Alg1: RandomForest"
   ]
  },
  {
   "cell_type": "markdown",
   "id": "2d37250d-7e31-41cf-9f9e-d69bf39e183e",
   "metadata": {
    "jp-MarkdownHeadingCollapsed": true,
    "tags": []
   },
   "source": [
    "### Grid Search the best parameters"
   ]
  },
  {
   "cell_type": "code",
   "execution_count": null,
   "id": "435b489f-7f80-4304-9185-fd6ead95579b",
   "metadata": {},
   "outputs": [],
   "source": [
    "from sklearn.model_selection import GridSearchCV\n",
    "from sklearn.pipeline import Pipeline\n",
    "from sklearn.preprocessing import StandardScaler\n",
    "from sklearn.ensemble import RandomForestClassifier\n",
    "\n",
    "# Define the pipeline\n",
    "model = Pipeline(steps=[\n",
    "    ('scaler', StandardScaler()),  # Normalization step\n",
    "    ('rf', RandomForestClassifier(random_state=42))  # You can replace this with any other classifier\n",
    "])\n",
    "\n",
    "param_grid = {\n",
    "    'rf__n_estimators': [10, 100, 1000],\n",
    "    'rf__max_depth': [None, 10, 20],\n",
    "}\n",
    "\n",
    "\n",
    "# Create GridSearchCV\n",
    "grid_search = GridSearchCV(model, param_grid, cv=5, scoring='accuracy')  # You can adjust cv (cross-validation) as needed\n",
    "\n",
    "# Fit the pipeline with GridSearchCV\n",
    "grid_search.fit(X_train, y_train)\n",
    "\n",
    "# Access the best parameters and best estimator\n",
    "best_params = grid_search.best_params_\n",
    "best_estimator = grid_search.best_estimator_\n"
   ]
  },
  {
   "cell_type": "code",
   "execution_count": null,
   "id": "bb11f9e7-8aa2-4c47-95b1-b802e3e5e57f",
   "metadata": {
    "tags": []
   },
   "outputs": [],
   "source": [
    "print(best_params)\n",
    "print(best_estimator)"
   ]
  },
  {
   "cell_type": "code",
   "execution_count": null,
   "id": "0d650aeb-98bc-4a0b-a907-2f400221b980",
   "metadata": {},
   "outputs": [],
   "source": []
  },
  {
   "cell_type": "markdown",
   "id": "864f4a19-2987-4333-afe2-47b0655e7edf",
   "metadata": {
    "jp-MarkdownHeadingCollapsed": true,
    "tags": []
   },
   "source": [
    "### Training to Create Model with the Best Parameter"
   ]
  },
  {
   "cell_type": "code",
   "execution_count": null,
   "id": "b10960e4-0f2b-4ddc-9e7c-932c58d6ed35",
   "metadata": {
    "tags": []
   },
   "outputs": [],
   "source": [
    "from sklearn.pipeline import Pipeline\n",
    "from sklearn.preprocessing import StandardScaler\n",
    "from sklearn.ensemble import RandomForestClassifier\n",
    "\n",
    "# Define the pipeline\n",
    "model = Pipeline(steps=[\n",
    "    ('scaler', StandardScaler()),  # Normalization step\n",
    "    ('rf', RandomForestClassifier(random_state=42, max_depth=None, n_estimators=1000))  # You can replace this with any other classifier\n",
    "])\n",
    "\n",
    "# Fit the pipeline\n",
    "model.fit(X_train, y_train)\n"
   ]
  },
  {
   "cell_type": "markdown",
   "id": "01e44fc8-2e58-4d71-a019-ba254d7da931",
   "metadata": {
    "jp-MarkdownHeadingCollapsed": true,
    "tags": []
   },
   "source": [
    "### Testing / Evaluation"
   ]
  },
  {
   "cell_type": "code",
   "execution_count": null,
   "id": "34e32747-0aa3-4660-a87d-7843fd5a4fc4",
   "metadata": {
    "tags": []
   },
   "outputs": [],
   "source": [
    "from sklearn.metrics import confusion_matrix, classification_report\n",
    "import matplotlib.pyplot as plt\n",
    "import seaborn as sns\n",
    "\n",
    "\n",
    "# Make predictions\n",
    "y_pred = model.predict(X_test)\n",
    "\n",
    "summary_eval = classification_report(y_test,y_pred,digits=4)\n",
    "print(summary_eval)\n",
    "\n",
    "# Calculate the confusion matrix\n",
    "cm = confusion_matrix(y_test, y_pred)\n",
    "\n",
    "# Plot the confusion matrix using seaborn heatmap\n",
    "plt.figure(figsize=(6, 4))\n",
    "sns.heatmap(cm, annot=True, fmt='d', cmap='Blues', )\n",
    "plt.title('Confusion Matrix: Random Forest')\n",
    "plt.xlabel('Predicted')\n",
    "plt.ylabel('True')\n",
    "# Save the plot as an image file (e.g., PNG)\n",
    "plt.savefig('confusion_matrix_randforest.png')\n",
    "\n",
    "plt.show()"
   ]
  },
  {
   "cell_type": "code",
   "execution_count": null,
   "id": "02d8c575-f9da-46ff-99cf-c2aa07e9a292",
   "metadata": {},
   "outputs": [],
   "source": []
  },
  {
   "cell_type": "markdown",
   "id": "98df8985-45c3-4969-93c9-8d98a4572907",
   "metadata": {
    "tags": []
   },
   "source": [
    "## Alg2: XGBoost "
   ]
  },
  {
   "cell_type": "markdown",
   "id": "19a99893-b806-4592-a69b-516ff43e4bff",
   "metadata": {
    "jp-MarkdownHeadingCollapsed": true,
    "tags": []
   },
   "source": [
    "### Grid Search the best parameters"
   ]
  },
  {
   "cell_type": "code",
   "execution_count": null,
   "id": "d17ad142-45e4-48e6-9712-feb96ca35fb6",
   "metadata": {},
   "outputs": [],
   "source": [
    "from sklearn.model_selection import GridSearchCV\n",
    "from sklearn.pipeline import Pipeline\n",
    "from sklearn.preprocessing import StandardScaler\n",
    "from xgboost import XGBClassifier\n",
    "\n",
    "# Define the pipeline\n",
    "model = Pipeline(steps=[\n",
    "    ('scaler', StandardScaler()),  # Normalization step\n",
    "    ('xgb', XGBClassifier(random_state=42))  # You can replace this with any other classifier\n",
    "])\n",
    "\n",
    "\n",
    "param_grid = {\n",
    "    'xgb__n_estimators': [50, 100, 150],\n",
    "    'xgb__max_depth': [3, 5, 7],\n",
    "    'xgb__learning_rate': [0.01, 0.1, 0.2]\n",
    "}\n",
    "\n",
    "\n",
    "# Create GridSearchCV\n",
    "grid_search = GridSearchCV(model, param_grid, cv=5, scoring='accuracy')  # You can adjust cv (cross-validation) as needed\n",
    "\n",
    "# Fit the pipeline with GridSearchCV\n",
    "grid_search.fit(X_train, y_train)\n",
    "\n",
    "# Access the best parameters and best estimator\n",
    "best_params = grid_search.best_params_\n",
    "best_estimator = grid_search.best_estimator_\n"
   ]
  },
  {
   "cell_type": "code",
   "execution_count": null,
   "id": "f23c6b9c-ff77-4922-b083-7f57db5e9a20",
   "metadata": {
    "tags": []
   },
   "outputs": [],
   "source": [
    "print(best_params)\n",
    "print(best_estimator)"
   ]
  },
  {
   "cell_type": "code",
   "execution_count": null,
   "id": "794e9d93-217e-4ba2-acda-941c8e4c188a",
   "metadata": {},
   "outputs": [],
   "source": []
  },
  {
   "cell_type": "markdown",
   "id": "b0d5fe74-ac7e-426b-b032-90b668bb4f3b",
   "metadata": {
    "jp-MarkdownHeadingCollapsed": true,
    "tags": []
   },
   "source": [
    "### Training to Create Model with the Best Parameter"
   ]
  },
  {
   "cell_type": "code",
   "execution_count": null,
   "id": "f197ad11-9a15-4299-886a-5708d98153b5",
   "metadata": {
    "tags": []
   },
   "outputs": [],
   "source": [
    "from sklearn.pipeline import Pipeline\n",
    "from sklearn.preprocessing import StandardScaler\n",
    "from xgboost import XGBClassifier\n",
    "\n",
    "# Define the pipeline\n",
    "model = Pipeline(steps=[\n",
    "    ('scaler', StandardScaler()),  # Normalization step\n",
    "    ('xgb', XGBClassifier(random_state=42, max_depth=5,  n_estimators=50))  # You can replace this with any other classifier\n",
    "])\n",
    "\n",
    "# Fit the pipeline\n",
    "model.fit(X_train, y_train)\n"
   ]
  },
  {
   "cell_type": "markdown",
   "id": "14032958-42e5-4f52-afdc-26ae1766de6b",
   "metadata": {
    "jp-MarkdownHeadingCollapsed": true,
    "tags": []
   },
   "source": [
    "### Testing / Evaluation"
   ]
  },
  {
   "cell_type": "code",
   "execution_count": null,
   "id": "f76af247-983d-4ad9-9a00-8b0bcc0c3a3c",
   "metadata": {
    "tags": []
   },
   "outputs": [],
   "source": [
    "from sklearn.metrics import confusion_matrix, classification_report\n",
    "import matplotlib.pyplot as plt\n",
    "import seaborn as sns\n",
    "\n",
    "\n",
    "# Make predictions\n",
    "y_pred = model.predict(X_test)\n",
    "\n",
    "summary_eval = classification_report(y_test,y_pred,digits=4)\n",
    "print(summary_eval)\n",
    "\n",
    "# Calculate the confusion matrix\n",
    "cm = confusion_matrix(y_test, y_pred)\n",
    "\n",
    "# Plot the confusion matrix using seaborn heatmap\n",
    "plt.figure(figsize=(6, 4))\n",
    "sns.heatmap(cm, annot=True, fmt='d', cmap='Blues', )\n",
    "plt.title('Confusion Matrix: XGBoost')\n",
    "plt.xlabel('Predicted')\n",
    "plt.ylabel('True')\n",
    "# Save the plot as an image file (e.g., PNG)\n",
    "plt.savefig('confusion_matrix_xgb.png')\n",
    "\n",
    "plt.show()"
   ]
  },
  {
   "cell_type": "markdown",
   "id": "9efeff68-227e-4067-8185-0ff335d3e043",
   "metadata": {
    "tags": []
   },
   "source": [
    "## Alg3: ... "
   ]
  },
  {
   "cell_type": "markdown",
   "id": "b700c576-e803-4f10-b941-a0a1e7d28255",
   "metadata": {
    "jp-MarkdownHeadingCollapsed": true,
    "tags": []
   },
   "source": [
    "### Grid Search the best parameters"
   ]
  },
  {
   "cell_type": "code",
   "execution_count": null,
   "id": "75645998-718d-4781-9c91-4d5a0df50e81",
   "metadata": {},
   "outputs": [],
   "source": [
    "from sklearn.model_selection import GridSearchCV\n",
    "from sklearn.pipeline import Pipeline\n",
    "from sklearn.preprocessing import StandardScaler\n",
    "...\n",
    "\n",
    "# Define the pipeline\n",
    "model = Pipeline(steps=[\n",
    "    ('scaler', StandardScaler()),  # Normalization step\n",
    "    ('...', ...)  # You can replace this with any other classifier\n",
    "])\n",
    "\n",
    "\n",
    "param_grid = {\n",
    "    ...\n",
    "}\n",
    "\n",
    "\n",
    "# Create GridSearchCV\n",
    "grid_search = GridSearchCV(model, param_grid, cv=5, scoring='accuracy')  # You can adjust cv (cross-validation) as needed\n",
    "\n",
    "# Fit the pipeline with GridSearchCV\n",
    "grid_search.fit(X_train, y_train)\n",
    "\n",
    "# Access the best parameters and best estimator\n",
    "best_params = grid_search.best_params_\n",
    "best_estimator = grid_search.best_estimator_\n"
   ]
  },
  {
   "cell_type": "code",
   "execution_count": null,
   "id": "35ea9e20-e110-4ed3-b9c8-e54d14195701",
   "metadata": {
    "tags": []
   },
   "outputs": [],
   "source": [
    "print(best_params)\n",
    "print(best_estimator)"
   ]
  },
  {
   "cell_type": "code",
   "execution_count": null,
   "id": "9021fc41-e188-43c9-a33e-688f99521daf",
   "metadata": {},
   "outputs": [],
   "source": []
  },
  {
   "cell_type": "markdown",
   "id": "f3aeda06-a354-433b-9cf2-b6c501616a9d",
   "metadata": {
    "jp-MarkdownHeadingCollapsed": true,
    "tags": []
   },
   "source": [
    "### Training to Create Model with the Best Parameter"
   ]
  },
  {
   "cell_type": "code",
   "execution_count": null,
   "id": "450ad933-001e-43f5-87bc-d248dd641b3f",
   "metadata": {
    "tags": []
   },
   "outputs": [],
   "source": [
    "from sklearn.pipeline import Pipeline\n",
    "from sklearn.preprocessing import StandardScaler\n",
    "...\n",
    "\n",
    "# Define the pipeline\n",
    "model = Pipeline(steps=[\n",
    "    ('scaler', StandardScaler()),  # Normalization step\n",
    "    ('...', ...)  # You can replace this with any other classifier\n",
    "])\n",
    "\n",
    "# Fit the pipeline\n",
    "model.fit(X_train, y_train)\n"
   ]
  },
  {
   "cell_type": "markdown",
   "id": "a32e96f3-1e60-4315-a6d5-1a469d5df089",
   "metadata": {
    "jp-MarkdownHeadingCollapsed": true,
    "tags": []
   },
   "source": [
    "### Testing / Evaluation"
   ]
  },
  {
   "cell_type": "code",
   "execution_count": null,
   "id": "9ad9bfca-11ed-46d1-be9c-8a208ac3fca7",
   "metadata": {
    "tags": []
   },
   "outputs": [],
   "source": [
    "from sklearn.metrics import confusion_matrix, classification_report\n",
    "import matplotlib.pyplot as plt\n",
    "import seaborn as sns\n",
    "\n",
    "\n",
    "# Make predictions\n",
    "y_pred = model.predict(X_test)\n",
    "\n",
    "summary_eval = classification_report(y_test,y_pred,digits=4)\n",
    "print(summary_eval)\n",
    "\n",
    "# Calculate the confusion matrix\n",
    "cm = confusion_matrix(y_test, y_pred)\n",
    "\n",
    "# Plot the confusion matrix using seaborn heatmap\n",
    "plt.figure(figsize=(6, 4))\n",
    "sns.heatmap(cm, annot=True, fmt='d', cmap='Blues', )\n",
    "plt.title('Confusion Matrix: ...')\n",
    "plt.xlabel('Predicted')\n",
    "plt.ylabel('True')\n",
    "# Save the plot as an image file (e.g., PNG)\n",
    "plt.savefig('confusion_matrix_xxx.png')\n",
    "\n",
    "plt.show()"
   ]
  },
  {
   "cell_type": "markdown",
   "id": "c2877960-d129-4a44-81b5-b1bbd646e04c",
   "metadata": {
    "jp-MarkdownHeadingCollapsed": true,
    "tags": []
   },
   "source": [
    "## Select the Best Model to Create on All Data, i.e., (X,y), and Save Model \n"
   ]
  },
  {
   "cell_type": "code",
   "execution_count": null,
   "id": "25b91e3a-bff5-4514-83d3-820a2a28e87e",
   "metadata": {
    "tags": []
   },
   "outputs": [],
   "source": [
    "from sklearn.pipeline import Pipeline\n",
    "from sklearn.preprocessing import StandardScaler\n",
    "...\n",
    "\n",
    "# Define the pipeline\n",
    "model = Pipeline(steps=[\n",
    "    ('scaler', StandardScaler()),  # Normalization step\n",
    "    ('..', ...)  # You can replace this with any other classifier\n",
    "])\n",
    "\n",
    "# Fit the pipeline\n",
    "model.fit(X, y)\n"
   ]
  },
  {
   "cell_type": "code",
   "execution_count": null,
   "id": "791b6b25-2c89-42bd-8839-debdd3e0acbf",
   "metadata": {
    "tags": []
   },
   "outputs": [],
   "source": [
    "import pickle\n",
    "# Create a tuple or any container object with your variables\n",
    "data_to_save = (model, department_encoder, region_encoder, education_encoder, gender_encoder, recruitment_channel_encoder)\n",
    "\n",
    "# Open a file in binary write mode\n",
    "with open('model_kpi.pkl', 'wb') as file:\n",
    "    # Save the container object\n",
    "    pickle.dump(data_to_save, file)"
   ]
  },
  {
   "cell_type": "code",
   "execution_count": null,
   "id": "92659c50-a85f-41ce-a336-85da2aeb1270",
   "metadata": {},
   "outputs": [],
   "source": []
  },
  {
   "cell_type": "markdown",
   "id": "95fbd57d-82df-4737-b585-1629182b0808",
   "metadata": {
    "tags": []
   },
   "source": [
    "## Load Model and Prediction\n",
    "\n",
    "Kernel -> Restart Kernel.."
   ]
  },
  {
   "cell_type": "markdown",
   "id": "1e98b18b-2e31-4ac0-b717-d766c0fdb287",
   "metadata": {
    "jp-MarkdownHeadingCollapsed": true,
    "tags": []
   },
   "source": [
    "### Load model"
   ]
  },
  {
   "cell_type": "code",
   "execution_count": null,
   "id": "88f268c8-6907-4a08-80a6-c08de660eeaf",
   "metadata": {
    "tags": []
   },
   "outputs": [],
   "source": [
    "import pickle\n",
    "import pandas as pd\n",
    "\n",
    "with open('model_kpi.pkl', 'rb') as file:\n",
    "    # Load the data from the file\n",
    "    model, department_encoder, region_encoder, education_encoder, gender_encoder, recruitment_channel_encoder = pickle.load(file)\n",
    "\n",
    "    "
   ]
  },
  {
   "cell_type": "markdown",
   "id": "9bd4c292-5fe2-477b-9941-dd1b2eee082d",
   "metadata": {
    "jp-MarkdownHeadingCollapsed": true,
    "tags": []
   },
   "source": [
    "### New data"
   ]
  },
  {
   "cell_type": "code",
   "execution_count": null,
   "id": "d67bdee5-f91b-41f3-be55-a8b75ad0dec4",
   "metadata": {
    "tags": []
   },
   "outputs": [],
   "source": [
    "# Get user input for each variable\n",
    "x_new =  pd.DataFrame() \n",
    "x_new['department'] = ['Technology']\n",
    "x_new['region'] = ['region_26']\n",
    "x_new['education'] = ['Bachelors']\n",
    "x_new['gender'] = ['m']\n",
    "x_new['recruitment_channel'] = ['sourcing']\n",
    "x_new['no_of_trainings'] = [1]\n",
    "x_new['age'] = [24]\n",
    "x_new['previous_year_rating'] = [2]\n",
    "x_new['length_of_service'] = [1]\n",
    "x_new['awards_won'] = [0]\n",
    "x_new['avg_training_score'] = [77]"
   ]
  },
  {
   "cell_type": "markdown",
   "id": "40dbf666-737e-44d9-9fff-2e89b0976b30",
   "metadata": {
    "jp-MarkdownHeadingCollapsed": true,
    "tags": []
   },
   "source": [
    "### Categorical Data Encoding"
   ]
  },
  {
   "cell_type": "code",
   "execution_count": null,
   "id": "222ef554-9361-441a-a8ca-f343045c65b2",
   "metadata": {
    "tags": []
   },
   "outputs": [],
   "source": [
    "x_new['department'] = department_encoder.transform(x_new['department'])\n",
    "x_new['region'] = region_encoder.transform(x_new['region'])\n",
    "x_new['education'] = education_encoder.transform(x_new['education'])\n",
    "x_new['gender'] = gender_encoder.transform(x_new['gender'])\n",
    "x_new['recruitment_channel'] = recruitment_channel_encoder.transform(x_new['recruitment_channel'])"
   ]
  },
  {
   "cell_type": "markdown",
   "id": "39f8eb95-026f-4a06-b9a4-f9cdf775b37a",
   "metadata": {
    "jp-MarkdownHeadingCollapsed": true,
    "tags": []
   },
   "source": [
    "### Predicting"
   ]
  },
  {
   "cell_type": "code",
   "execution_count": null,
   "id": "19e096ed-123d-41cb-98a3-17593f146fa8",
   "metadata": {
    "tags": []
   },
   "outputs": [],
   "source": [
    "y_pred_new = model.predict(x_new)\n",
    "\n",
    "result = y_pred_new\n",
    "\n",
    "print('KPIs_met_more_than_80: ', result)"
   ]
  },
  {
   "cell_type": "markdown",
   "id": "d11d3884-8685-4dbe-ad22-d7e18180fafb",
   "metadata": {
    "jp-MarkdownHeadingCollapsed": true,
    "tags": []
   },
   "source": [
    "## Create file app_KPI.py"
   ]
  },
  {
   "cell_type": "code",
   "execution_count": 1,
   "id": "a239b7b6-600c-498d-a364-d776146744aa",
   "metadata": {},
   "outputs": [
    {
     "name": "stdout",
     "output_type": "stream",
     "text": [
      "Writing app_KPI.py\n"
     ]
    }
   ],
   "source": [
    "%%writefile app_KPI.py\n",
    "\n",
    "import streamlit as st\n",
    "import pandas as pd\n",
    "import numpy as np\n",
    "import matplotlib.pyplot as plt\n",
    "import seaborn as sns\n",
    "import pickle\n",
    "\n",
    "# Load model and encoders\n",
    "with open('model_kpi.pkl', 'rb') as file:\n",
    "    model, department_encoder, region_encoder, education_encoder, gender_encoder, recruitment_channel_encoder = pickle.load(file)\n",
    "\n",
    "# Load your DataFrame\n",
    "# Replace 'your_data.csv' with the actual file name or URL\n",
    "df = pd.read_csv('Uncleaned_employees_final_dataset.csv')\n",
    "df = df.drop('employee_id', axis=1)\n",
    "\n",
    "# Streamlit App\n",
    "st.title('Employee KPIs App')\n",
    "\n",
    "# Define a session state to remember tab selections\n",
    "if 'tab_selected' not in st.session_state:\n",
    "    st.session_state.tab_selected = 0\n",
    "\n",
    "# Create tabs for prediction and visualization\n",
    "tabs = ['Predict KPIs', 'Visualize Data', 'Predict from CSV']\n",
    "selected_tab = st.radio('Select Tab:', tabs, index=st.session_state.tab_selected)\n",
    "\n",
    "# Tab selection logic\n",
    "if selected_tab != st.session_state.tab_selected:\n",
    "    st.session_state.tab_selected = tabs.index(selected_tab)\n",
    "\n",
    "# Tab 1: Predict KPIs\n",
    "if st.session_state.tab_selected == 0:\n",
    "    st.header('Predict KPIs')\n",
    "\n",
    "    # User Input Form\n",
    "    department = st.selectbox('Department', department_encoder.classes_)\n",
    "    region = st.selectbox('Region', region_encoder.classes_)\n",
    "    education = st.selectbox('Education', education_encoder.classes_)\n",
    "    gender = st.radio('Gender', gender_encoder.classes_)\n",
    "    recruitment_channel = st.selectbox('Recruitment Channel', recruitment_channel_encoder.classes_)\n",
    "    no_of_trainings = st.slider('Number of Trainings', 1, 10, 1)\n",
    "    age = st.slider('Age', 18, 60, 30)\n",
    "    previous_year_rating = st.slider('Previous Year Rating', 1.0, 5.0, 3.0)\n",
    "    length_of_service = st.slider('Length of Service', 1, 20, 5)\n",
    "    awards_won = st.checkbox('Awards Won')\n",
    "    avg_training_score = st.slider('Average Training Score', 40, 100, 70)\n",
    "\n",
    "    # Create a DataFrame for the user input\n",
    "    user_input = pd.DataFrame({\n",
    "        'department': [department],\n",
    "        'region': [region],\n",
    "        'education': [education],\n",
    "        'gender': [gender],\n",
    "        'recruitment_channel': [recruitment_channel],\n",
    "        'no_of_trainings': [no_of_trainings],\n",
    "        'age': [age],\n",
    "        'previous_year_rating': [previous_year_rating],\n",
    "        'length_of_service': [length_of_service],\n",
    "        'awards_won': [1 if awards_won else 0],\n",
    "        'avg_training_score': [avg_training_score]\n",
    "    })\n",
    "\n",
    "    # Categorical Data Encoding\n",
    "    user_input['department'] = department_encoder.transform(user_input['department'])\n",
    "    user_input['region'] = region_encoder.transform(user_input['region'])\n",
    "    user_input['education'] = education_encoder.transform(user_input['education'])\n",
    "    user_input['gender'] = gender_encoder.transform(user_input['gender'])\n",
    "    user_input['recruitment_channel'] = recruitment_channel_encoder.transform(user_input['recruitment_channel'])\n",
    "\n",
    "    # Predicting\n",
    "    prediction = model.predict(user_input)\n",
    "\n",
    "    # Display Result\n",
    "    st.subheader('Prediction Result:')\n",
    "    st.write('KPIs_met_more_than_80:', prediction[0])\n",
    "\n",
    "# Tab 2: Visualize Data\n",
    "elif st.session_state.tab_selected == 1:\n",
    "    st.header('Visualize Data')\n",
    "\n",
    "    # Select condition feature\n",
    "    condition_feature = st.selectbox('Select Condition Feature:', df.columns)\n",
    "\n",
    "    # Set default condition values\n",
    "    default_condition_values = ['Select All'] + df[condition_feature].unique().tolist()\n",
    "\n",
    "    # Select condition values\n",
    "    condition_values = st.multiselect('Select Condition Values:', default_condition_values)\n",
    "\n",
    "    # Handle 'Select All' choice\n",
    "    if 'Select All' in condition_values:\n",
    "        condition_values = df[condition_feature].unique().tolist()\n",
    "\n",
    "    if len(condition_values) > 0:\n",
    "        # Filter DataFrame based on selected condition\n",
    "        filtered_df = df[df[condition_feature].isin(condition_values)]\n",
    "\n",
    "        # Plot the number of employees based on KPIs\n",
    "        fig, ax = plt.subplots(figsize=(14, 8))\n",
    "        sns.countplot(x=condition_feature, hue='KPIs_met_more_than_80', data=filtered_df, palette='viridis')\n",
    "        plt.title('Number of Employees based on KPIs')\n",
    "        plt.xlabel(condition_feature)\n",
    "        plt.ylabel('Number of Employees')\n",
    "        st.pyplot(fig)\n",
    "\n",
    "# Tab 3: Predict from CSV\n",
    "elif st.session_state.tab_selected == 2:\n",
    "    st.header('Predict from CSV')\n",
    "\n",
    "    # Upload CSV file\n",
    "    uploaded_file = st.file_uploader(\"Upload CSV file\", type=[\"csv\"])\n",
    "    # uploaded_file\n",
    "    \n",
    "    if uploaded_file is not None:\n",
    "        # Read CSV file\n",
    "        csv_df_org = pd.read_csv(uploaded_file)\n",
    "        csv_df_org = csv_df_org.dropna()\n",
    "        # csv_df_org.columns\n",
    "        \n",
    "        csv_df = csv_df_org.copy()\n",
    "        csv_df = csv_df.drop('employee_id',axis=1)\n",
    "        \n",
    "        \n",
    "        \n",
    "         # Categorical Data Encoding\n",
    "        csv_df['department'] = department_encoder.transform(csv_df['department'])\n",
    "        csv_df['region'] = region_encoder.transform(csv_df['region'])\n",
    "        csv_df['education'] = education_encoder.transform(csv_df['education'])\n",
    "        csv_df['gender'] = gender_encoder.transform(csv_df['gender'])\n",
    "        csv_df['recruitment_channel'] = recruitment_channel_encoder.transform(csv_df['recruitment_channel'])\n",
    "\n",
    "\n",
    "        # Predicting\n",
    "        predictions = model.predict(csv_df)\n",
    "\n",
    "        # Add predictions to the DataFrame\n",
    "        csv_df_org['KPIs_met_more_than_80'] = predictions\n",
    "\n",
    "        # Display the DataFrame with predictions\n",
    "        st.subheader('Predicted Results:')\n",
    "        st.write(csv_df_org)\n",
    "\n",
    "        # Visualize predictions based on a selected feature\n",
    "        st.subheader('Visualize Predictions')\n",
    "\n",
    "        # Select feature for visualization\n",
    "        feature_for_visualization = st.selectbox('Select Feature for Visualization:', csv_df_org.columns)\n",
    "\n",
    "        # Plot the number of employees based on KPIs for the selected feature\n",
    "        fig, ax = plt.subplots(figsize=(14, 8))\n",
    "        sns.countplot(x=feature_for_visualization, hue='KPIs_met_more_than_80', data=csv_df_org, palette='viridis')\n",
    "        plt.title(f'Number of Employees based on KPIs - {feature_for_visualization}')\n",
    "        plt.xlabel(feature_for_visualization)\n",
    "        plt.ylabel('Number of Employees')\n",
    "        st.pyplot(fig)\n",
    "\n",
    "        "
   ]
  },
  {
   "cell_type": "code",
   "execution_count": null,
   "id": "639e014d-1411-4b55-b08d-95198b8fb637",
   "metadata": {},
   "outputs": [],
   "source": []
  },
  {
   "cell_type": "markdown",
   "id": "63008f77-2014-40fd-b913-09cdd2d98282",
   "metadata": {
    "tags": []
   },
   "source": [
    "## Deploy on Streamlit Sharing\n",
    "\n",
    "https://share.streamlit.io/\n",
    "\n",
    "https://github.com/\n",
    "\n"
   ]
  },
  {
   "cell_type": "code",
   "execution_count": 1,
   "id": "7de46de7-dc24-4e0f-8ad9-0e66488616d4",
   "metadata": {},
   "outputs": [
    {
     "name": "stdout",
     "output_type": "stream",
     "text": [
      "Writing requirements.txt\n"
     ]
    }
   ],
   "source": [
    "%%writefile requirements.txt\n",
    "\n",
    "scikit-learn==1.2.2\n",
    "pandas\n",
    " "
   ]
  },
  {
   "cell_type": "code",
   "execution_count": null,
   "id": "5faade23-6102-48d5-bb73-ff8f0266e0c5",
   "metadata": {},
   "outputs": [],
   "source": []
  }
 ],
 "metadata": {
  "kernelspec": {
   "display_name": "Python 3 (ipykernel)",
   "language": "python",
   "name": "python3"
  },
  "language_info": {
   "codemirror_mode": {
    "name": "ipython",
    "version": 3
   },
   "file_extension": ".py",
   "mimetype": "text/x-python",
   "name": "python",
   "nbconvert_exporter": "python",
   "pygments_lexer": "ipython3",
   "version": "3.10.11"
  }
 },
 "nbformat": 4,
 "nbformat_minor": 5
}
